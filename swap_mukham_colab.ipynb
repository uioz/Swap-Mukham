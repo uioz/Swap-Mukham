{
  "cells": [
    {
      "cell_type": "markdown",
      "metadata": {
        "colab_type": "text",
        "id": "view-in-github"
      },
      "source": [
        "<a href=\"https://colab.research.google.com/github/uioz/Swap-Mukham/blob/new-wip/swap_mukham_colab.ipynb\" target=\"_parent\"><img src=\"https://colab.research.google.com/assets/colab-badge.svg\" alt=\"Open In Colab\"/></a>"
      ]
    },
    {
      "cell_type": "markdown",
      "metadata": {
        "id": "bypvIQG5RHl9"
      },
      "source": [
        "# 🗿 **Swap-Mukham**\n",
        "*Face swap app based on insightface inswapper.*\n",
        "- [Github](https://github.com/harisreedhar/Swap-Mukham)\n",
        "- [Disclaimer](https://github.com/harisreedhar/Swap-Mukham#disclaimer)"
      ]
    },
    {
      "cell_type": "markdown",
      "metadata": {
        "id": "csC_DX5zWLEU"
      },
      "source": [
        "# Clone Repository"
      ]
    },
    {
      "cell_type": "code",
      "execution_count": null,
      "metadata": {
        "id": "klcx2cKDKX5x"
      },
      "outputs": [],
      "source": [
        "#@title\n",
        "! git clone -b new-wip --single-branch https://github.com/uioz/Swap-Mukham.git"
      ]
    },
    {
      "cell_type": "markdown",
      "metadata": {
        "id": "bebBDddfWTXf"
      },
      "source": [
        "# Install Requirements"
      ]
    },
    {
      "cell_type": "code",
      "execution_count": null,
      "metadata": {
        "id": "VgTpg7EsTN3o"
      },
      "outputs": [],
      "source": [
        "#@title\n",
        "%cd Swap-Mukham/\n",
        "print(\"Installing requirements...\")\n",
        "!pip install -r requirements.txt -q\n",
        "!apt-get install ffmpeg\n",
        "print(\"Installing requirements done.\")"
      ]
    },
    {
      "cell_type": "markdown",
      "metadata": {
        "id": "T9L6tgD0Wats"
      },
      "source": [
        "# Download Models"
      ]
    },
    {
      "cell_type": "code",
      "execution_count": null,
      "metadata": {
        "id": "17MZO9OvUQAk"
      },
      "outputs": [],
      "source": [
        "#@title\n",
        "inswapper_model = \"https://huggingface.co/thebiglaskowski/inswapper_128.onnx/resolve/main/inswapper_128.onnx\" #@param {type:\"string\"}\n",
        "face_parser_model = \"https://huggingface.co/bluefoxcreation/Face_parsing_onnx/resolve/main/faceparser.onnx\" #@param {type:\"string\"}\n",
        "det_10g_model = \"https://huggingface.co/bluefoxcreation/insightface-retinaface-arcface-model/resolve/main/det_10g.onnx\" #@param {type:\"string\"}\n",
        "w600k_r50_model = \"https://huggingface.co/bluefoxcreation/insightface-retinaface-arcface-model/resolve/main/w600k_r50.onnx\" #@param {type:\"string\"}\n",
        "gender_age_model = \"https://huggingface.co/bluefoxcreation/gender_age/resolve/main/gender_age.onnx\" #@param {type:\"string\"}\n",
        "codeformer_model = \"https://github.com/harisreedhar/Face-Upscalers-ONNX/releases/download/Models/codeformer.onnx\" #@param {type:\"string\"}\n",
        "gfpganv1_4_model = \"https://github.com/harisreedhar/Face-Upscalers-ONNX/releases/download/Models/GFPGANv1.4.onnx\" #@param {type:\"string\"}\n",
        "gpen_bfr_256_model = \"https://github.com/harisreedhar/Face-Upscalers-ONNX/releases/download/Models/GPEN-BFR-256.onnx\" #@param {type:\"string\"}\n",
        "restoreformer = \"https://github.com/harisreedhar/Face-Upscalers-ONNX/releases/download/Models/restoreformer.onnx\" #@param {type:\"string\"}\n",
        "import urllib.request\n",
        "print(\"Downloading swapper model...\")\n",
        "urllib.request.urlretrieve(inswapper_model, \"/content/Swap-Mukham/assets/pretrained_models/inswapper_128.onnx\")\n",
        "print(\"Downloading face parsing model...\")\n",
        "urllib.request.urlretrieve(face_parser_model, \"/content/Swap-Mukham/assets/pretrained_models/faceparser.onnx\")\n",
        "print(\"Downloading det_10g model...\")\n",
        "urllib.request.urlretrieve(det_10g_model, \"/content/Swap-Mukham/assets/pretrained_models/det_10g.onnx\")\n",
        "print(\"Downloading w600k_r50 model...\")\n",
        "urllib.request.urlretrieve(w600k_r50_model, \"/content/Swap-Mukham/assets/pretrained_models/w600k_r50.onnx\")\n",
        "print(\"Downloading gender_age model...\")\n",
        "urllib.request.urlretrieve(gender_age_model, \"/content/Swap-Mukham/assets/pretrained_models/gender_age.onnx\")\n",
        "print(\"Downloading codeformer model...\")\n",
        "urllib.request.urlretrieve(codeformer_model, \"/content/Swap-Mukham/assets/pretrained_models/codeformer.onnx\")\n",
        "print(\"Downloading GFPGANv1.4 model...\")\n",
        "urllib.request.urlretrieve(gfpganv1_4_model, \"/content/Swap-Mukham/assets/pretrained_models/GFPGANv1.4.onnx\")\n",
        "print(\"Downloading GPEN-BFR-256 model...\")\n",
        "urllib.request.urlretrieve(gpen_bfr_256_model, \"/content/Swap-Mukham/assets/pretrained_models/GPEN-BFR-256.onnx\")\n",
        "print(\"Downloading restoreformer model...\")\n",
        "urllib.request.urlretrieve(restoreformer, \"/content/Swap-Mukham/assets/pretrained_models/restoreformer.onnx\")\n",
        "print(\"Downloading models done.\")"
      ]
    },
    {
      "cell_type": "markdown",
      "metadata": {
        "id": "uEcCUw0Co6bE"
      },
      "source": [
        "# Mount Google drive (optional)"
      ]
    },
    {
      "cell_type": "code",
      "execution_count": null,
      "metadata": {
        "id": "4KssYYippDMw"
      },
      "outputs": [],
      "source": [
        "from google.colab import auth, drive\n",
        "auth.authenticate_user()\n",
        "drive.mount('/content/drive')"
      ]
    },
    {
      "cell_type": "markdown",
      "metadata": {
        "id": "-Tn68Ayqdrlk"
      },
      "source": [
        "# Run App\n",
        "\n"
      ]
    },
    {
      "cell_type": "code",
      "execution_count": null,
      "metadata": {
        "id": "6dpBjbfVOrrc"
      },
      "outputs": [],
      "source": [
        "#@title\n",
        "default_output_path = \"/content/Swap-Mukham\" #@param {type:\"string\"}\n",
        "\n",
        "command = f\"python app.py --colab --out_dir {default_output_path}\"\n",
        "!{command}"
      ]
    }
  ],
  "metadata": {
    "accelerator": "GPU",
    "colab": {
      "gpuType": "T4",
      "include_colab_link": true,
      "provenance": []
    },
    "kernelspec": {
      "display_name": "Python 3",
      "name": "python3"
    },
    "language_info": {
      "name": "python"
    }
  },
  "nbformat": 4,
  "nbformat_minor": 0
}
